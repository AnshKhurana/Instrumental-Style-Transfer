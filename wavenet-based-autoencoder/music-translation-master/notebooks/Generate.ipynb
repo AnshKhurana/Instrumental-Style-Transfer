{
 "cells": [
  {
   "cell_type": "code",
   "execution_count": 1,
   "metadata": {},
   "outputs": [],
   "source": [
    "from pathlib import Path\n",
    "import librosa\n",
    "import torch\n",
    "from argparse import ArgumentParser\n",
    "import matplotlib\n",
    "import h5py\n",
    "import tqdm\n",
    "from IPython.display import Audio, display\n",
    "\n",
    "import sys\n",
    "sys.path += ['../src']\n",
    "\n",
    "import utils\n",
    "import wavenet_models\n",
    "from utils import save_audio\n",
    "from wavenet import WaveNet\n",
    "from wavenet_generator import WavenetGenerator\n",
    "from nv_wavenet_generator import NVWavenetGenerator"
   ]
  },
  {
   "cell_type": "code",
   "execution_count": 2,
   "metadata": {},
   "outputs": [],
   "source": [
    "# Inference params\n",
    "checkpoint = Path('../checkpoints/pretrained_musicnet/lastmodel')\n",
    "decoders = [0, 1, 2, 3, 4, 5]\n",
    "batch_size = 1\n",
    "rate = 16000\n",
    "split_size = 20\n",
    "file_paths = [Path('test.wav')]"
   ]
  },
  {
   "cell_type": "code",
   "execution_count": 3,
   "metadata": {},
   "outputs": [],
   "source": [
    "def disp(x, decoder_ix):\n",
    "    wav = utils.inv_mu_law(x.cpu().numpy())\n",
    "    print(f'Decoder: {decoder_ix}')\n",
    "    print(f'X min: {x.min()}, max: {x.max()}')\n",
    "\n",
    "    display(Audio(wav.squeeze(), rate=rate))\n",
    "        \n",
    "def extract_id(path):\n",
    "    decoder_id = str(path)[:-4].split('_')[-1]\n",
    "    return int(decoder_id)"
   ]
  },
  {
   "cell_type": "code",
   "execution_count": null,
   "metadata": {},
   "outputs": [],
   "source": [
    "print('Starting')\n",
    "matplotlib.use('agg')\n",
    "\n",
    "checkpoints = checkpoint.parent.glob(checkpoint.name + '_*.pth')\n",
    "checkpoints = [c for c in checkpoints if extract_id(c) in decoders]\n",
    "assert len(checkpoints) >= 1, \"No checkpoints found.\"\n",
    "\n",
    "model_args = torch.load(checkpoint.parent / 'args.pth')[0]\n",
    "encoder = wavenet_models.Encoder(model_args)\n",
    "encoder.load_state_dict(torch.load(checkpoints[0])['encoder_state'])\n",
    "encoder.eval()\n",
    "encoder = encoder.cuda()\n",
    "\n",
    "decoders = []\n",
    "decoder_ids = []\n",
    "for checkpoint in checkpoints:\n",
    "    decoder = WaveNet(model_args)\n",
    "    decoder.load_state_dict(torch.load(checkpoint)['decoder_state'])\n",
    "    decoder.eval()\n",
    "    decoder = decoder.cuda()\n",
    "    decoder = NVWavenetGenerator(decoder, rate * (split_size // 20), batch_size, 3)\n",
    "\n",
    "    decoders += [decoder]\n",
    "    decoder_ids += [extract_id(checkpoint)]"
   ]
  },
  {
   "cell_type": "code",
   "execution_count": null,
   "metadata": {},
   "outputs": [],
   "source": [
    "xs = []\n",
    "\n",
    "for file_path in file_paths:\n",
    "    data, rate = librosa.load(file_path, sr=16000)\n",
    "    assert rate == 16000\n",
    "    data = utils.mu_law(data)\n",
    "    xs.append(torch.tensor(data).unsqueeze(0).float().cuda())\n",
    "\n",
    "xs = torch.stack(xs).contiguous()\n",
    "print(f'xs size: {xs.size()}')"
   ]
  },
  {
   "cell_type": "code",
   "execution_count": null,
   "metadata": {},
   "outputs": [],
   "source": [
    "yy = {}\n",
    "with torch.no_grad():\n",
    "    zz = []\n",
    "    for xs_batch in torch.split(xs, batch_size):\n",
    "        zz += [encoder(xs_batch)]\n",
    "    zz = torch.cat(zz, dim=0)\n",
    "\n",
    "    with utils.timeit(\"Generation timer\"):\n",
    "        for i, decoder_id in enumerate(decoder_ids):\n",
    "            yy[decoder_id] = []\n",
    "            decoder = decoders[i]\n",
    "            for zz_batch in torch.split(zz, batch_size):\n",
    "                print(zz_batch.shape)\n",
    "                splits = torch.split(zz_batch, split_size, -1)\n",
    "                audio_data = []\n",
    "                decoder.reset()\n",
    "                for cond in tqdm.tqdm_notebook(splits):\n",
    "                    audio_data += [decoder.generate(cond).cpu()]\n",
    "                audio_data = torch.cat(audio_data, -1)\n",
    "                yy[decoder_id] += [audio_data]\n",
    "            yy[decoder_id] = torch.cat(yy[decoder_id], dim=0)"
   ]
  },
  {
   "cell_type": "code",
   "execution_count": null,
   "metadata": {},
   "outputs": [],
   "source": [
    "for decoder_ix, decoder_result in yy.items():\n",
    "    for sample_result, filepath in zip(decoder_result, file_paths):\n",
    "        disp(sample_result, decoder_ix)"
   ]
  },
  {
   "cell_type": "code",
   "execution_count": null,
   "metadata": {},
   "outputs": [],
   "source": []
  }
 ],
 "metadata": {
  "kernelspec": {
   "display_name": "Python 3",
   "language": "python",
   "name": "python3"
  },
  "language_info": {
   "codemirror_mode": {
    "name": "ipython",
    "version": 3
   },
   "file_extension": ".py",
   "mimetype": "text/x-python",
   "name": "python",
   "nbconvert_exporter": "python",
   "pygments_lexer": "ipython3",
   "version": "3.7.2"
  }
 },
 "nbformat": 4,
 "nbformat_minor": 2
}
