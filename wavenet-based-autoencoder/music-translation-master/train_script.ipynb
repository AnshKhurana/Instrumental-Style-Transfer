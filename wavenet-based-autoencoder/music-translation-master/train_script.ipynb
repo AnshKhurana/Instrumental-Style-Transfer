{
  "nbformat": 4,
  "nbformat_minor": 0,
  "metadata": {
    "colab": {
      "name": "753_project_Anuj.ipynb",
      "provenance": [],
      "collapsed_sections": []
    },
    "kernelspec": {
      "name": "python3",
      "display_name": "Python 3"
    },
    "accelerator": "GPU"
  },
  "cells": [
    {
      "cell_type": "code",
      "metadata": {
        "id": "OV6p1Yj4fPy0",
        "colab_type": "code",
        "colab": {}
      },
      "source": [
        "from google.colab import drive\n",
        "drive.mount('/content/drive')"
      ],
      "execution_count": 0,
      "outputs": []
    },
    {
      "cell_type": "code",
      "metadata": {
        "id": "zQwNrtKqfXFE",
        "colab_type": "code",
        "colab": {}
      },
      "source": [
        "! git clone https://github.com/ajd12342/instrumental-music-translation.git"
      ],
      "execution_count": 0,
      "outputs": []
    },
    {
      "cell_type": "code",
      "metadata": {
        "id": "1M7D0_IFf0ss",
        "colab_type": "code",
        "colab": {}
      },
      "source": [
        "cd instrumental-music-translation/wavenet-based-autoencoder/music-translation-master/"
      ],
      "execution_count": 0,
      "outputs": []
    },
    {
      "cell_type": "code",
      "metadata": {
        "id": "zVv2uHF3fewB",
        "colab_type": "code",
        "colab": {}
      },
      "source": [
        "! bash setup_colab.sh"
      ],
      "execution_count": 0,
      "outputs": []
    },
    {
      "cell_type": "code",
      "metadata": {
        "id": "3NWiMXChfTb8",
        "colab_type": "code",
        "colab": {}
      },
      "source": [
        "! bash train.sh"
      ],
      "execution_count": 0,
      "outputs": []
    },
    {
      "cell_type": "code",
      "metadata": {
        "id": "MPNY82zpWdzg",
        "colab_type": "code",
        "colab": {}
      },
      "source": [
        ""
      ],
      "execution_count": 0,
      "outputs": []
    }
  ]
}